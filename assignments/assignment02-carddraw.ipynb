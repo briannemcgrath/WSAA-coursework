{
 "cells": [
  {
   "cell_type": "markdown",
   "metadata": {},
   "source": [
    "# **Week Two Assignment: Deal Cards**\n",
    "\n",
    "In this notebook we interact with the [Deck of Cards API](https://deckofcardsapi.com/) to simulate drawing five cards from a shuffled deck. The focus is on identifying poker-like patterns such as pairs, triples, straights, and flushes. \n",
    "\n",
    "**Author: Brianne McGrath**\n",
    "___"
   ]
  },
  {
   "cell_type": "markdown",
   "metadata": {},
   "source": [
    "## **Loading and Exploring**\n",
    "___"
   ]
  },
  {
   "cell_type": "code",
   "execution_count": 94,
   "metadata": {},
   "outputs": [],
   "source": [
    "#importing necessary libraries\n",
    "import requests\n",
    "from collections import Counter"
   ]
  },
  {
   "cell_type": "markdown",
   "metadata": {},
   "source": [
    "___\n",
    "## **Fetching and Shuffling the Deck**\n",
    "___"
   ]
  },
  {
   "cell_type": "code",
   "execution_count": 58,
   "metadata": {},
   "outputs": [
    {
     "name": "stdout",
     "output_type": "stream",
     "text": [
      "Deck ID: 45f4sontazo4\n"
     ]
    }
   ],
   "source": [
    "#shuffle deck and get deck_id\n",
    "shuffle_url = \"https://deckofcardsapi.com/api/deck/new/shuffle/?deck_count=1\"\n",
    "response = requests.get(shuffle_url)\n",
    "data = response.json()\n",
    "deck_id = data['deck_id']\n",
    "print(f\"Deck ID: {deck_id}\")"
   ]
  },
  {
   "cell_type": "markdown",
   "metadata": {},
   "source": [
    "___\n",
    "## **Drawing Cards**\n",
    "\n",
    "___"
   ]
  },
  {
   "cell_type": "code",
   "execution_count": 179,
   "metadata": {},
   "outputs": [],
   "source": [
    "#draw 5 cards from the shuffled deck\n",
    "draw_url = \"https://deckofcardsapi.com/api/deck/45f4sontazo4/draw/?count=5\"\n",
    "response = requests.get(draw_url)\n",
    "cards = response.json()['cards']"
   ]
  },
  {
   "cell_type": "code",
   "execution_count": 180,
   "metadata": {},
   "outputs": [
    {
     "name": "stdout",
     "output_type": "stream",
     "text": [
      "Drawn Cards:\n",
      "6 of SPADES\n",
      "3 of SPADES\n",
      "6 of HEARTS\n",
      "JACK of SPADES\n",
      "ACE of SPADES\n"
     ]
    }
   ],
   "source": [
    "#printing values and suits of cards drawn \n",
    "print(\"Drawn Cards:\")\n",
    "for card in cards:\n",
    "    print(f\"{card['value']} of {card['suit']}\")"
   ]
  },
  {
   "cell_type": "markdown",
   "metadata": {},
   "source": [
    "___\n",
    "\n",
    "## **Identifying Patterns**\n",
    "\n",
    "___"
   ]
  },
  {
   "cell_type": "code",
   "execution_count": 181,
   "metadata": {},
   "outputs": [],
   "source": [
    "#checking for pairs, triples, straight, or same suit\n",
    "values = [card['value'] for card in cards]\n",
    "suits = [card['suit'] for card in cards]"
   ]
  },
  {
   "cell_type": "code",
   "execution_count": 182,
   "metadata": {},
   "outputs": [],
   "source": [
    "#converting face cards to numbers for straight detection \n",
    "card_value = {'JACK': 11, 'QUEEN': 12, 'KING': 13, 'ACE': 14}\n",
    "numerical_values = sorted([card_value[val] if val in card_value else int(val) for val in values])"
   ]
  },
  {
   "cell_type": "code",
   "execution_count": 183,
   "metadata": {},
   "outputs": [],
   "source": [
    "#checking for pairs or triples\n",
    "value_counts = Counter(values)\n",
    "pairs = [value for value, count in value_counts.items() if count == 2]\n",
    "triples = [value for value, count in value_counts.items() if count == 3]"
   ]
  },
  {
   "cell_type": "code",
   "execution_count": 184,
   "metadata": {},
   "outputs": [],
   "source": [
    "#checking for straight\n",
    "straight = all(numerical_values[i] == numerical_values[i+1] + 1 for i in range(1, len(numerical_values)))\n",
    "\n",
    "#checking for flush/same suit\n",
    "flush = len(set(suits)) == 1"
   ]
  },
  {
   "cell_type": "markdown",
   "metadata": {},
   "source": [
    "___\n",
    "\n",
    "## **Results**\n",
    "\n",
    "___"
   ]
  },
  {
   "cell_type": "code",
   "execution_count": 185,
   "metadata": {},
   "outputs": [
    {
     "name": "stdout",
     "output_type": "stream",
     "text": [
      "You got a pair!\n"
     ]
    }
   ],
   "source": [
    "#printing results\n",
    "if pairs:\n",
    "    print(f\"You got a pair!\")\n",
    "if triples:\n",
    "    print(f\"You got a triple!\")\n",
    "if straight:\n",
    "    print(f\"You got a straight!\")\n",
    "if flush:\n",
    "    print(f\"You got a flush! All cards are the same suit.\")"
   ]
  },
  {
   "cell_type": "code",
   "execution_count": 186,
   "metadata": {},
   "outputs": [
    {
     "name": "stdout",
     "output_type": "stream",
     "text": [
      "Congratulations on your hand! :)\n"
     ]
    }
   ],
   "source": [
    "#printing user message from results \n",
    "if pairs or triples or straight or flush:\n",
    "    print (f\"Congratulations on your hand! :)\")\n",
    "else: \n",
    "    print (f\"Better luck next time! :(\")"
   ]
  },
  {
   "cell_type": "markdown",
   "metadata": {},
   "source": [
    "___\n",
    "\n",
    "## **References**\n",
    "- Deck of Card API: https://deckofcardsapi.com/ - Followed their API structure to shuffle the deck and draw cards. \n",
    "- Collections Library (Counter): https://docs.python.org/3/library/collections.html#collections.Counter - Used `Counter` to count occurrences of card values and detect pairs/triples. \n",
    "- Sorting & Checking Consecutive Numbers: https://realpython.com/python-sort/ - Used sorting to arrange card values for straight detection. Used a loop to check if values are consistent. \n",
    "- Set in Python: https://docs.python.org/3/library/stdtypes.html#set-types-set-frozenset - Used `set(suits)` to check if all suits are the same/flush. "
   ]
  },
  {
   "cell_type": "markdown",
   "metadata": {},
   "source": [
    "___\n",
    "\n",
    "## **END**"
   ]
  }
 ],
 "metadata": {
  "kernelspec": {
   "display_name": "base",
   "language": "python",
   "name": "python3"
  },
  "language_info": {
   "codemirror_mode": {
    "name": "ipython",
    "version": 3
   },
   "file_extension": ".py",
   "mimetype": "text/x-python",
   "name": "python",
   "nbconvert_exporter": "python",
   "pygments_lexer": "ipython3",
   "version": "3.11.5"
  }
 },
 "nbformat": 4,
 "nbformat_minor": 2
}
